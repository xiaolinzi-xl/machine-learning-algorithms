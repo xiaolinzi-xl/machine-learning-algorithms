{
 "cells": [
  {
   "cell_type": "markdown",
   "metadata": {},
   "source": [
    "## 魔法命令 %run"
   ]
  },
  {
   "cell_type": "code",
   "execution_count": 1,
   "metadata": {},
   "outputs": [
    {
     "name": "stdout",
     "output_type": "stream",
     "text": [
      "Hello Machine Learning !\n"
     ]
    }
   ],
   "source": [
    "%run myscript/hello.py"
   ]
  },
  {
   "cell_type": "code",
   "execution_count": 2,
   "metadata": {},
   "outputs": [
    {
     "name": "stdout",
     "output_type": "stream",
     "text": [
      "Hello test !\n"
     ]
    }
   ],
   "source": [
    "hello('test')"
   ]
  },
  {
   "cell_type": "code",
   "execution_count": 3,
   "metadata": {},
   "outputs": [],
   "source": [
    "import mymodule.FirstML"
   ]
  },
  {
   "cell_type": "code",
   "execution_count": 4,
   "metadata": {},
   "outputs": [
    {
     "name": "stdout",
     "output_type": "stream",
     "text": [
      "?\n"
     ]
    }
   ],
   "source": [
    "mymodule.FirstML.predict(1)"
   ]
  },
  {
   "cell_type": "code",
   "execution_count": 5,
   "metadata": {},
   "outputs": [
    {
     "name": "stdout",
     "output_type": "stream",
     "text": [
      "?\n"
     ]
    }
   ],
   "source": [
    "from mymodule import FirstML\n",
    "\n",
    "FirstML.predict(2)"
   ]
  },
  {
   "cell_type": "markdown",
   "metadata": {},
   "source": [
    "## %timeit"
   ]
  },
  {
   "cell_type": "code",
   "execution_count": 6,
   "metadata": {},
   "outputs": [
    {
     "name": "stdout",
     "output_type": "stream",
     "text": [
      "473 µs ± 8.55 µs per loop (mean ± std. dev. of 7 runs, 1000 loops each)\n"
     ]
    }
   ],
   "source": [
    "%timeit L = [i**2 for i in range(1000)]"
   ]
  },
  {
   "cell_type": "code",
   "execution_count": 7,
   "metadata": {},
   "outputs": [
    {
     "name": "stdout",
     "output_type": "stream",
     "text": [
      "504 ms ± 20 ms per loop (mean ± std. dev. of 7 runs, 1 loop each)\n"
     ]
    }
   ],
   "source": [
    "%timeit L = [i**2 for i in range(1000000)]"
   ]
  },
  {
   "cell_type": "code",
   "execution_count": 8,
   "metadata": {},
   "outputs": [
    {
     "name": "stdout",
     "output_type": "stream",
     "text": [
      "4.39 µs ± 185 ns per loop (mean ± std. dev. of 7 runs, 100000 loops each)\n"
     ]
    }
   ],
   "source": [
    "%timeit L = [i**2 for i in range(10)]"
   ]
  },
  {
   "cell_type": "code",
   "execution_count": 9,
   "metadata": {},
   "outputs": [
    {
     "name": "stdout",
     "output_type": "stream",
     "text": [
      "518 µs ± 16.4 µs per loop (mean ± std. dev. of 7 runs, 1000 loops each)\n"
     ]
    }
   ],
   "source": [
    "%%timeit\n",
    "L = []\n",
    "for i in range(1000):\n",
    "    L.append(i ** 2)"
   ]
  },
  {
   "cell_type": "markdown",
   "metadata": {},
   "source": [
    "## %time"
   ]
  },
  {
   "cell_type": "code",
   "execution_count": 13,
   "metadata": {},
   "outputs": [
    {
     "name": "stdout",
     "output_type": "stream",
     "text": [
      "Wall time: 1 ms\n"
     ]
    }
   ],
   "source": [
    "%time L = [i**2 for i in range(1000)]"
   ]
  },
  {
   "cell_type": "code",
   "execution_count": 14,
   "metadata": {},
   "outputs": [
    {
     "name": "stdout",
     "output_type": "stream",
     "text": [
      "Wall time: 1 ms\n"
     ]
    }
   ],
   "source": [
    "%%time\n",
    "L = []\n",
    "for i in range(1000):\n",
    "    L.append(i ** 2)"
   ]
  },
  {
   "cell_type": "code",
   "execution_count": 15,
   "metadata": {},
   "outputs": [
    {
     "name": "stdout",
     "output_type": "stream",
     "text": [
      "The slowest run took 6.64 times longer than the fastest. This could mean that an intermediate result is being cached.\n",
      "6.55 ms ± 3.97 ms per loop (mean ± std. dev. of 7 runs, 100 loops each)\n"
     ]
    }
   ],
   "source": [
    "import random\n",
    "L = [random.random() for i in range(100000)]\n",
    "%timeit L.sort()"
   ]
  },
  {
   "cell_type": "code",
   "execution_count": 16,
   "metadata": {},
   "outputs": [
    {
     "name": "stdout",
     "output_type": "stream",
     "text": [
      "Wall time: 62 ms\n"
     ]
    }
   ],
   "source": [
    "L = [random.random() for i in range(100000)]\n",
    "%time L.sort()"
   ]
  },
  {
   "cell_type": "code",
   "execution_count": 19,
   "metadata": {},
   "outputs": [
    {
     "name": "stdout",
     "output_type": "stream",
     "text": [
      "Wall time: 7 ms\n"
     ]
    }
   ],
   "source": [
    "%time L.sort()"
   ]
  },
  {
   "cell_type": "markdown",
   "metadata": {},
   "source": [
    "## 其他魔法命令"
   ]
  },
  {
   "cell_type": "code",
   "execution_count": 20,
   "metadata": {},
   "outputs": [
    {
     "data": {
      "application/json": {
       "cell": {
        "!": "OSMagics",
        "HTML": "Other",
        "SVG": "Other",
        "bash": "Other",
        "capture": "ExecutionMagics",
        "cmd": "Other",
        "debug": "ExecutionMagics",
        "file": "Other",
        "html": "DisplayMagics",
        "javascript": "DisplayMagics",
        "js": "DisplayMagics",
        "latex": "DisplayMagics",
        "markdown": "DisplayMagics",
        "perl": "Other",
        "prun": "ExecutionMagics",
        "pypy": "Other",
        "python": "Other",
        "python2": "Other",
        "python3": "Other",
        "ruby": "Other",
        "script": "ScriptMagics",
        "sh": "Other",
        "svg": "DisplayMagics",
        "sx": "OSMagics",
        "system": "OSMagics",
        "time": "ExecutionMagics",
        "timeit": "ExecutionMagics",
        "writefile": "OSMagics"
       },
       "line": {
        "alias": "OSMagics",
        "alias_magic": "BasicMagics",
        "autoawait": "AsyncMagics",
        "autocall": "AutoMagics",
        "automagic": "AutoMagics",
        "autosave": "KernelMagics",
        "bookmark": "OSMagics",
        "cd": "OSMagics",
        "clear": "KernelMagics",
        "cls": "KernelMagics",
        "colors": "BasicMagics",
        "conda": "PackagingMagics",
        "config": "ConfigMagics",
        "connect_info": "KernelMagics",
        "copy": "Other",
        "ddir": "Other",
        "debug": "ExecutionMagics",
        "dhist": "OSMagics",
        "dirs": "OSMagics",
        "doctest_mode": "BasicMagics",
        "echo": "Other",
        "ed": "Other",
        "edit": "KernelMagics",
        "env": "OSMagics",
        "gui": "BasicMagics",
        "hist": "Other",
        "history": "HistoryMagics",
        "killbgscripts": "ScriptMagics",
        "ldir": "Other",
        "less": "KernelMagics",
        "load": "CodeMagics",
        "load_ext": "ExtensionMagics",
        "loadpy": "CodeMagics",
        "logoff": "LoggingMagics",
        "logon": "LoggingMagics",
        "logstart": "LoggingMagics",
        "logstate": "LoggingMagics",
        "logstop": "LoggingMagics",
        "ls": "Other",
        "lsmagic": "BasicMagics",
        "macro": "ExecutionMagics",
        "magic": "BasicMagics",
        "matplotlib": "PylabMagics",
        "mkdir": "Other",
        "more": "KernelMagics",
        "notebook": "BasicMagics",
        "page": "BasicMagics",
        "pastebin": "CodeMagics",
        "pdb": "ExecutionMagics",
        "pdef": "NamespaceMagics",
        "pdoc": "NamespaceMagics",
        "pfile": "NamespaceMagics",
        "pinfo": "NamespaceMagics",
        "pinfo2": "NamespaceMagics",
        "pip": "PackagingMagics",
        "popd": "OSMagics",
        "pprint": "BasicMagics",
        "precision": "BasicMagics",
        "prun": "ExecutionMagics",
        "psearch": "NamespaceMagics",
        "psource": "NamespaceMagics",
        "pushd": "OSMagics",
        "pwd": "OSMagics",
        "pycat": "OSMagics",
        "pylab": "PylabMagics",
        "qtconsole": "KernelMagics",
        "quickref": "BasicMagics",
        "recall": "HistoryMagics",
        "rehashx": "OSMagics",
        "reload_ext": "ExtensionMagics",
        "ren": "Other",
        "rep": "Other",
        "rerun": "HistoryMagics",
        "reset": "NamespaceMagics",
        "reset_selective": "NamespaceMagics",
        "rmdir": "Other",
        "run": "ExecutionMagics",
        "save": "CodeMagics",
        "sc": "OSMagics",
        "set_env": "OSMagics",
        "store": "StoreMagics",
        "sx": "OSMagics",
        "system": "OSMagics",
        "tb": "ExecutionMagics",
        "time": "ExecutionMagics",
        "timeit": "ExecutionMagics",
        "unalias": "OSMagics",
        "unload_ext": "ExtensionMagics",
        "who": "NamespaceMagics",
        "who_ls": "NamespaceMagics",
        "whos": "NamespaceMagics",
        "xdel": "NamespaceMagics",
        "xmode": "BasicMagics"
       }
      },
      "text/plain": [
       "Available line magics:\n",
       "%alias  %alias_magic  %autoawait  %autocall  %automagic  %autosave  %bookmark  %cd  %clear  %cls  %colors  %conda  %config  %connect_info  %copy  %ddir  %debug  %dhist  %dirs  %doctest_mode  %echo  %ed  %edit  %env  %gui  %hist  %history  %killbgscripts  %ldir  %less  %load  %load_ext  %loadpy  %logoff  %logon  %logstart  %logstate  %logstop  %ls  %lsmagic  %macro  %magic  %matplotlib  %mkdir  %more  %notebook  %page  %pastebin  %pdb  %pdef  %pdoc  %pfile  %pinfo  %pinfo2  %pip  %popd  %pprint  %precision  %prun  %psearch  %psource  %pushd  %pwd  %pycat  %pylab  %qtconsole  %quickref  %recall  %rehashx  %reload_ext  %ren  %rep  %rerun  %reset  %reset_selective  %rmdir  %run  %save  %sc  %set_env  %store  %sx  %system  %tb  %time  %timeit  %unalias  %unload_ext  %who  %who_ls  %whos  %xdel  %xmode\n",
       "\n",
       "Available cell magics:\n",
       "%%!  %%HTML  %%SVG  %%bash  %%capture  %%cmd  %%debug  %%file  %%html  %%javascript  %%js  %%latex  %%markdown  %%perl  %%prun  %%pypy  %%python  %%python2  %%python3  %%ruby  %%script  %%sh  %%svg  %%sx  %%system  %%time  %%timeit  %%writefile\n",
       "\n",
       "Automagic is ON, % prefix IS NOT needed for line magics."
      ]
     },
     "execution_count": 20,
     "metadata": {},
     "output_type": "execute_result"
    }
   ],
   "source": [
    "%lsmagic"
   ]
  },
  {
   "cell_type": "code",
   "execution_count": 21,
   "metadata": {},
   "outputs": [
    {
     "data": {
      "text/plain": [
       "\u001b[1;31mDocstring:\u001b[0m\n",
       "Run the named file inside IPython as a program.\n",
       "\n",
       "Usage::\n",
       "\n",
       "  %run [-n -i -e -G]\n",
       "       [( -t [-N<N>] | -d [-b<N>] | -p [profile options] )]\n",
       "       ( -m mod | file ) [args]\n",
       "\n",
       "Parameters after the filename are passed as command-line arguments to\n",
       "the program (put in sys.argv). Then, control returns to IPython's\n",
       "prompt.\n",
       "\n",
       "This is similar to running at a system prompt ``python file args``,\n",
       "but with the advantage of giving you IPython's tracebacks, and of\n",
       "loading all variables into your interactive namespace for further use\n",
       "(unless -p is used, see below).\n",
       "\n",
       "The file is executed in a namespace initially consisting only of\n",
       "``__name__=='__main__'`` and sys.argv constructed as indicated. It thus\n",
       "sees its environment as if it were being run as a stand-alone program\n",
       "(except for sharing global objects such as previously imported\n",
       "modules). But after execution, the IPython interactive namespace gets\n",
       "updated with all variables defined in the program (except for __name__\n",
       "and sys.argv). This allows for very convenient loading of code for\n",
       "interactive work, while giving each program a 'clean sheet' to run in.\n",
       "\n",
       "Arguments are expanded using shell-like glob match.  Patterns\n",
       "'*', '?', '[seq]' and '[!seq]' can be used.  Additionally,\n",
       "tilde '~' will be expanded into user's home directory.  Unlike\n",
       "real shells, quotation does not suppress expansions.  Use\n",
       "*two* back slashes (e.g. ``\\\\*``) to suppress expansions.\n",
       "To completely disable these expansions, you can use -G flag.\n",
       "\n",
       "On Windows systems, the use of single quotes `'` when specifying \n",
       "a file is not supported. Use double quotes `\"`.\n",
       "\n",
       "Options:\n",
       "\n",
       "-n\n",
       "  __name__ is NOT set to '__main__', but to the running file's name\n",
       "  without extension (as python does under import).  This allows running\n",
       "  scripts and reloading the definitions in them without calling code\n",
       "  protected by an ``if __name__ == \"__main__\"`` clause.\n",
       "\n",
       "-i\n",
       "  run the file in IPython's namespace instead of an empty one. This\n",
       "  is useful if you are experimenting with code written in a text editor\n",
       "  which depends on variables defined interactively.\n",
       "\n",
       "-e\n",
       "  ignore sys.exit() calls or SystemExit exceptions in the script\n",
       "  being run.  This is particularly useful if IPython is being used to\n",
       "  run unittests, which always exit with a sys.exit() call.  In such\n",
       "  cases you are interested in the output of the test results, not in\n",
       "  seeing a traceback of the unittest module.\n",
       "\n",
       "-t\n",
       "  print timing information at the end of the run.  IPython will give\n",
       "  you an estimated CPU time consumption for your script, which under\n",
       "  Unix uses the resource module to avoid the wraparound problems of\n",
       "  time.clock().  Under Unix, an estimate of time spent on system tasks\n",
       "  is also given (for Windows platforms this is reported as 0.0).\n",
       "\n",
       "If -t is given, an additional ``-N<N>`` option can be given, where <N>\n",
       "must be an integer indicating how many times you want the script to\n",
       "run.  The final timing report will include total and per run results.\n",
       "\n",
       "For example (testing the script uniq_stable.py)::\n",
       "\n",
       "    In [1]: run -t uniq_stable\n",
       "\n",
       "    IPython CPU timings (estimated):\n",
       "      User  :    0.19597 s.\n",
       "      System:        0.0 s.\n",
       "\n",
       "    In [2]: run -t -N5 uniq_stable\n",
       "\n",
       "    IPython CPU timings (estimated):\n",
       "    Total runs performed: 5\n",
       "      Times :      Total       Per run\n",
       "      User  :   0.910862 s,  0.1821724 s.\n",
       "      System:        0.0 s,        0.0 s.\n",
       "\n",
       "-d\n",
       "  run your program under the control of pdb, the Python debugger.\n",
       "  This allows you to execute your program step by step, watch variables,\n",
       "  etc.  Internally, what IPython does is similar to calling::\n",
       "\n",
       "      pdb.run('execfile(\"YOURFILENAME\")')\n",
       "\n",
       "  with a breakpoint set on line 1 of your file.  You can change the line\n",
       "  number for this automatic breakpoint to be <N> by using the -bN option\n",
       "  (where N must be an integer). For example::\n",
       "\n",
       "      %run -d -b40 myscript\n",
       "\n",
       "  will set the first breakpoint at line 40 in myscript.py.  Note that\n",
       "  the first breakpoint must be set on a line which actually does\n",
       "  something (not a comment or docstring) for it to stop execution.\n",
       "\n",
       "  Or you can specify a breakpoint in a different file::\n",
       "\n",
       "      %run -d -b myotherfile.py:20 myscript\n",
       "\n",
       "  When the pdb debugger starts, you will see a (Pdb) prompt.  You must\n",
       "  first enter 'c' (without quotes) to start execution up to the first\n",
       "  breakpoint.\n",
       "\n",
       "  Entering 'help' gives information about the use of the debugger.  You\n",
       "  can easily see pdb's full documentation with \"import pdb;pdb.help()\"\n",
       "  at a prompt.\n",
       "\n",
       "-p\n",
       "  run program under the control of the Python profiler module (which\n",
       "  prints a detailed report of execution times, function calls, etc).\n",
       "\n",
       "  You can pass other options after -p which affect the behavior of the\n",
       "  profiler itself. See the docs for %prun for details.\n",
       "\n",
       "  In this mode, the program's variables do NOT propagate back to the\n",
       "  IPython interactive namespace (because they remain in the namespace\n",
       "  where the profiler executes them).\n",
       "\n",
       "  Internally this triggers a call to %prun, see its documentation for\n",
       "  details on the options available specifically for profiling.\n",
       "\n",
       "There is one special usage for which the text above doesn't apply:\n",
       "if the filename ends with .ipy[nb], the file is run as ipython script,\n",
       "just as if the commands were written on IPython prompt.\n",
       "\n",
       "-m\n",
       "  specify module name to load instead of script path. Similar to\n",
       "  the -m option for the python interpreter. Use this option last if you\n",
       "  want to combine with other %run options. Unlike the python interpreter\n",
       "  only source modules are allowed no .pyc or .pyo files.\n",
       "  For example::\n",
       "\n",
       "      %run -m example\n",
       "\n",
       "  will run the example module.\n",
       "\n",
       "-G\n",
       "  disable shell-like glob expansion of arguments.\n",
       "\u001b[1;31mFile:\u001b[0m      c:\\users\\xiaolinzi\\miniconda3\\envs\\py36_ml\\lib\\site-packages\\ipython\\core\\magics\\execution.py\n"
      ]
     },
     "metadata": {},
     "output_type": "display_data"
    }
   ],
   "source": [
    "%run?"
   ]
  },
  {
   "cell_type": "code",
   "execution_count": null,
   "metadata": {},
   "outputs": [],
   "source": []
  }
 ],
 "metadata": {
  "kernelspec": {
   "display_name": "Python 3",
   "language": "python",
   "name": "python3"
  },
  "language_info": {
   "codemirror_mode": {
    "name": "ipython",
    "version": 3
   },
   "file_extension": ".py",
   "mimetype": "text/x-python",
   "name": "python",
   "nbconvert_exporter": "python",
   "pygments_lexer": "ipython3",
   "version": "3.6.9"
  }
 },
 "nbformat": 4,
 "nbformat_minor": 4
}
