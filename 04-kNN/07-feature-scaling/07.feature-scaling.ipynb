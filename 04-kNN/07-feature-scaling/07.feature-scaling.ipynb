{
 "cells": [
  {
   "cell_type": "markdown",
   "metadata": {},
   "source": [
    "## 数据归一化\n",
    "\n",
    "解决方案：将所有的数据映射到同一尺度\n",
    "\n",
    "最值归一化：把所有数据映射到0~1之间（适用于分布有明显边界的情况；受outlier影响较大）\n",
    "\n",
    "均值方差归一化：把所有数据归一到均值为，方差为1的分布中（数据分布没有明显的边界；可能存在极端数据值）"
   ]
  },
  {
   "cell_type": "code",
   "execution_count": 1,
   "metadata": {},
   "outputs": [],
   "source": [
    "import numpy as np\n",
    "import matplotlib.pyplot as plt"
   ]
  },
  {
   "cell_type": "code",
   "execution_count": 2,
   "metadata": {},
   "outputs": [],
   "source": [
    "x = np.random.randint(0, 100, size=100)"
   ]
  },
  {
   "cell_type": "code",
   "execution_count": 3,
   "metadata": {},
   "outputs": [
    {
     "data": {
      "text/plain": [
       "array([87, 39,  1,  2, 60, 57, 26, 40, 80, 88, 44, 64,  9, 83, 40, 69,  0,\n",
       "       90, 82,  3, 39, 35, 94, 50, 73, 46, 89, 34, 79, 66,  6,  2, 94, 48,\n",
       "        9, 67, 80, 32,  0, 71, 36, 13, 74, 28, 10, 82, 31, 29, 96, 76, 70,\n",
       "       94, 90, 11, 55, 80, 26, 61, 12, 48, 56, 62, 71, 15,  8, 82, 46, 39,\n",
       "       24, 84, 91, 84, 82, 57, 46, 47, 47, 52, 36, 40, 99, 44, 81, 84, 46,\n",
       "        7, 33, 28, 80, 59, 10, 39, 63, 29, 57, 60,  2, 50, 82, 70])"
      ]
     },
     "execution_count": 3,
     "metadata": {},
     "output_type": "execute_result"
    }
   ],
   "source": [
    "x"
   ]
  },
  {
   "cell_type": "code",
   "execution_count": 4,
   "metadata": {},
   "outputs": [
    {
     "data": {
      "text/plain": [
       "array([0.87878788, 0.39393939, 0.01010101, 0.02020202, 0.60606061,\n",
       "       0.57575758, 0.26262626, 0.4040404 , 0.80808081, 0.88888889,\n",
       "       0.44444444, 0.64646465, 0.09090909, 0.83838384, 0.4040404 ,\n",
       "       0.6969697 , 0.        , 0.90909091, 0.82828283, 0.03030303,\n",
       "       0.39393939, 0.35353535, 0.94949495, 0.50505051, 0.73737374,\n",
       "       0.46464646, 0.8989899 , 0.34343434, 0.7979798 , 0.66666667,\n",
       "       0.06060606, 0.02020202, 0.94949495, 0.48484848, 0.09090909,\n",
       "       0.67676768, 0.80808081, 0.32323232, 0.        , 0.71717172,\n",
       "       0.36363636, 0.13131313, 0.74747475, 0.28282828, 0.1010101 ,\n",
       "       0.82828283, 0.31313131, 0.29292929, 0.96969697, 0.76767677,\n",
       "       0.70707071, 0.94949495, 0.90909091, 0.11111111, 0.55555556,\n",
       "       0.80808081, 0.26262626, 0.61616162, 0.12121212, 0.48484848,\n",
       "       0.56565657, 0.62626263, 0.71717172, 0.15151515, 0.08080808,\n",
       "       0.82828283, 0.46464646, 0.39393939, 0.24242424, 0.84848485,\n",
       "       0.91919192, 0.84848485, 0.82828283, 0.57575758, 0.46464646,\n",
       "       0.47474747, 0.47474747, 0.52525253, 0.36363636, 0.4040404 ,\n",
       "       1.        , 0.44444444, 0.81818182, 0.84848485, 0.46464646,\n",
       "       0.07070707, 0.33333333, 0.28282828, 0.80808081, 0.5959596 ,\n",
       "       0.1010101 , 0.39393939, 0.63636364, 0.29292929, 0.57575758,\n",
       "       0.60606061, 0.02020202, 0.50505051, 0.82828283, 0.70707071])"
      ]
     },
     "execution_count": 4,
     "metadata": {},
     "output_type": "execute_result"
    }
   ],
   "source": [
    "(x - np.min(x)) / (np.max(x) - np.min(x))"
   ]
  },
  {
   "cell_type": "code",
   "execution_count": 7,
   "metadata": {},
   "outputs": [],
   "source": [
    "X = np.random.randint(0, 100, (50,2))"
   ]
  },
  {
   "cell_type": "code",
   "execution_count": 8,
   "metadata": {},
   "outputs": [
    {
     "data": {
      "text/plain": [
       "array([[82, 30],\n",
       "       [67, 59],\n",
       "       [34, 99],\n",
       "       [68, 88],\n",
       "       [62, 97],\n",
       "       [81, 37],\n",
       "       [30, 84],\n",
       "       [72, 67],\n",
       "       [62, 31],\n",
       "       [35,  5]])"
      ]
     },
     "execution_count": 8,
     "metadata": {},
     "output_type": "execute_result"
    }
   ],
   "source": [
    "X[:10, :]"
   ]
  },
  {
   "cell_type": "code",
   "execution_count": 9,
   "metadata": {},
   "outputs": [],
   "source": [
    "X = np.array(X, dtype=float)"
   ]
  },
  {
   "cell_type": "code",
   "execution_count": 10,
   "metadata": {},
   "outputs": [
    {
     "data": {
      "text/plain": [
       "array([[82., 30.],\n",
       "       [67., 59.],\n",
       "       [34., 99.],\n",
       "       [68., 88.],\n",
       "       [62., 97.],\n",
       "       [81., 37.],\n",
       "       [30., 84.],\n",
       "       [72., 67.],\n",
       "       [62., 31.],\n",
       "       [35.,  5.]])"
      ]
     },
     "execution_count": 10,
     "metadata": {},
     "output_type": "execute_result"
    }
   ],
   "source": [
    "X[:10, :]"
   ]
  },
  {
   "cell_type": "code",
   "execution_count": 11,
   "metadata": {},
   "outputs": [],
   "source": [
    "X[:, 0] = (X[:, 0] - np.min(X[:, 0])) / (np.max(X[:, 0]) - np.min(X[:, 0]))"
   ]
  },
  {
   "cell_type": "code",
   "execution_count": 12,
   "metadata": {},
   "outputs": [],
   "source": [
    "X[:, 1] = (X[:, 1] - np.min(X[:, 1])) / (np.max(X[:, 1]) - np.min(X[:, 1]))"
   ]
  },
  {
   "cell_type": "code",
   "execution_count": 13,
   "metadata": {},
   "outputs": [
    {
     "data": {
      "text/plain": [
       "array([[0.86666667, 0.3030303 ],\n",
       "       [0.7       , 0.5959596 ],\n",
       "       [0.33333333, 1.        ],\n",
       "       [0.71111111, 0.88888889],\n",
       "       [0.64444444, 0.97979798],\n",
       "       [0.85555556, 0.37373737],\n",
       "       [0.28888889, 0.84848485],\n",
       "       [0.75555556, 0.67676768],\n",
       "       [0.64444444, 0.31313131],\n",
       "       [0.34444444, 0.05050505]])"
      ]
     },
     "execution_count": 13,
     "metadata": {},
     "output_type": "execute_result"
    }
   ],
   "source": [
    "X[:10, :]"
   ]
  },
  {
   "cell_type": "code",
   "execution_count": 14,
   "metadata": {},
   "outputs": [
    {
     "data": {
      "image/png": "[encoded data removed]",
      "text/plain": [
       "<Figure size 432x288 with 1 Axes>"
      ]
     },
     "metadata": {
      "needs_background": "light"
     },
     "output_type": "display_data"
    }
   ],
   "source": [
    "plt.scatter(X[:,0], X[:, 1])\n",
    "plt.show()"
   ]
  },
  {
   "cell_type": "code",
   "execution_count": 15,
   "metadata": {},
   "outputs": [
    {
     "data": {
      "text/plain": [
       "0.5291111111111111"
      ]
     },
     "execution_count": 15,
     "metadata": {},
     "output_type": "execute_result"
    }
   ],
   "source": [
    "np.mean(X[:, 0])"
   ]
  },
  {
   "cell_type": "code",
   "execution_count": 16,
   "metadata": {},
   "outputs": [
    {
     "data": {
      "text/plain": [
       "0.4862626262626264"
      ]
     },
     "execution_count": 16,
     "metadata": {},
     "output_type": "execute_result"
    }
   ],
   "source": [
    "np.mean(X[:, 1])"
   ]
  },
  {
   "cell_type": "code",
   "execution_count": 17,
   "metadata": {},
   "outputs": [
    {
     "data": {
      "text/plain": [
       "0.29744500477264285"
      ]
     },
     "execution_count": 17,
     "metadata": {},
     "output_type": "execute_result"
    }
   ],
   "source": [
    "np.std(X[: ,0])"
   ]
  },
  {
   "cell_type": "code",
   "execution_count": 18,
   "metadata": {},
   "outputs": [
    {
     "data": {
      "text/plain": [
       "0.29516395966547043"
      ]
     },
     "execution_count": 18,
     "metadata": {},
     "output_type": "execute_result"
    }
   ],
   "source": [
    "np.std(X[:, 1])"
   ]
  },
  {
   "cell_type": "markdown",
   "metadata": {},
   "source": [
    "## 均值方差归一化"
   ]
  },
  {
   "cell_type": "code",
   "execution_count": 19,
   "metadata": {},
   "outputs": [],
   "source": [
    "X2 = np.random.randint(0, 100, (50,2))"
   ]
  },
  {
   "cell_type": "code",
   "execution_count": 20,
   "metadata": {},
   "outputs": [],
   "source": [
    "X2 = np.array(X2, dtype=float)"
   ]
  },
  {
   "cell_type": "code",
   "execution_count": 21,
   "metadata": {},
   "outputs": [],
   "source": [
    "X2[:, 0] = (X2[:, 0] - np.mean(X2[:, 0])) / np.std(X2[:, 0])"
   ]
  },
  {
   "cell_type": "code",
   "execution_count": 22,
   "metadata": {},
   "outputs": [],
   "source": [
    "X2[:, 1] = (X2[:, 1] - np.mean(X2[:, 1])) / np.std(X2[:, 1])"
   ]
  },
  {
   "cell_type": "code",
   "execution_count": 23,
   "metadata": {},
   "outputs": [
    {
     "data": {
      "image/png": "[encoded data removed]",
      "text/plain": [
       "<Figure size 432x288 with 1 Axes>"
      ]
     },
     "metadata": {
      "needs_background": "light"
     },
     "output_type": "display_data"
    }
   ],
   "source": [
    "plt.scatter(X2[:, 0], X2[:, 1])\n",
    "plt.show()"
   ]
  },
  {
   "cell_type": "code",
   "execution_count": 24,
   "metadata": {},
   "outputs": [
    {
     "data": {
      "text/plain": [
       "-6.966649479522857e-17"
      ]
     },
     "execution_count": 24,
     "metadata": {},
     "output_type": "execute_result"
    }
   ],
   "source": [
    "np.mean(X2[:, 0])"
   ]
  },
  {
   "cell_type": "code",
   "execution_count": 25,
   "metadata": {},
   "outputs": [
    {
     "data": {
      "text/plain": [
       "1.0"
      ]
     },
     "execution_count": 25,
     "metadata": {},
     "output_type": "execute_result"
    }
   ],
   "source": [
    "np.std(X2[:, 0])"
   ]
  },
  {
   "cell_type": "code",
   "execution_count": 26,
   "metadata": {},
   "outputs": [
    {
     "data": {
      "text/plain": [
       "1.4210854715202004e-16"
      ]
     },
     "execution_count": 26,
     "metadata": {},
     "output_type": "execute_result"
    }
   ],
   "source": [
    "np.mean(X2[:, 1])"
   ]
  },
  {
   "cell_type": "code",
   "execution_count": 27,
   "metadata": {},
   "outputs": [
    {
     "data": {
      "text/plain": [
       "1.0"
      ]
     },
     "execution_count": 27,
     "metadata": {},
     "output_type": "execute_result"
    }
   ],
   "source": [
    "np.std(X2[:, 1])"
   ]
  },
  {
   "cell_type": "code",
   "execution_count": null,
   "metadata": {},
   "outputs": [],
   "source": []
  }
 ],
 "metadata": {
  "kernelspec": {
   "display_name": "Python 3",
   "language": "python",
   "name": "python3"
  },
  "language_info": {
   "codemirror_mode": {
    "name": "ipython",
    "version": 3
   },
   "file_extension": ".py",
   "mimetype": "text/x-python",
   "name": "python",
   "nbconvert_exporter": "python",
   "pygments_lexer": "ipython3",
   "version": "3.6.9"
  }
 },
 "nbformat": 4,
 "nbformat_minor": 4
}
